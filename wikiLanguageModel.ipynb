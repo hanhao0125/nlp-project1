{
 "cells": [
  {
   "cell_type": "code",
   "execution_count": 1,
   "metadata": {},
   "outputs": [
    {
     "name": "stdout",
     "output_type": "stream",
     "text": [
      "--2019-05-26 06:26:22--  https://dumps.wikimedia.org/zhwiki/20190401/zhwiki-20190401-pages-articles-multistream4.xml-p2654618p2771086.bz2\n",
      "正在解析主机 dumps.wikimedia.org (dumps.wikimedia.org)... 208.80.155.106, 2620:0:861:4:208:80:155:106\n",
      "正在连接 dumps.wikimedia.org (dumps.wikimedia.org)|208.80.155.106|:443... 已连接。\n",
      "已发出 HTTP 请求，正在等待回应... 200 OK\n",
      "长度： 12682320 (12M) [application/octet-stream]\n",
      "正在保存至: “zhwiki-20190401-pages-articles-multistream4.xml-p2654618p2771086.bz2”\n",
      "\n",
      "zhwiki-20190401-pag 100%[===================>]  12.09M  22.5KB/s    in 7m 13s  \n",
      "\n",
      "2019-05-26 06:33:38 (28.6 KB/s) - 已保存 “zhwiki-20190401-pages-articles-multistream4.xml-p2654618p2771086.bz2” [12682320/12682320])\n",
      "\n"
     ]
    }
   ],
   "source": [
    "!wget https://dumps.wikimedia.org/zhwiki/20190401/zhwiki-20190401-pages-articles-multistream4.xml-p2654618p2771086.bz2\n"
   ]
  },
  {
   "cell_type": "code",
   "execution_count": 10,
   "metadata": {},
   "outputs": [],
   "source": [
    "import os\n",
    "\n",
    "file_path = os.getcwd() + '/extracted/AA/'\n",
    "file_names = os.listdir(file_path)\n",
    "import re\n",
    "def token(string):\n",
    "    return ' '.join(re.findall('[\\w|\\d]+', string))\n",
    "from langconv import *\n",
    "# 转换繁体到简体\n",
    "def cht_to_chs(line):\n",
    "    line = Converter('zh-hans').convert(line)\n",
    "    line.encode('utf-8')\n",
    "    return line"
   ]
  },
  {
   "cell_type": "code",
   "execution_count": 33,
   "metadata": {},
   "outputs": [
    {
     "name": "stderr",
     "output_type": "stream",
     "text": [
      "  0%|          | 30/9448 [00:00<00:34, 273.03it/s]"
     ]
    },
    {
     "name": "stdout",
     "output_type": "stream",
     "text": [
      "['wiki_00', '.ipynb_checkpoints']\n"
     ]
    },
    {
     "name": "stderr",
     "output_type": "stream",
     "text": [
      "100%|██████████| 9448/9448 [00:11<00:00, 650.07it/s]\n"
     ]
    }
   ],
   "source": [
    "import json\n",
    "from tqdm import tqdm\n",
    "all_articles = []\n",
    "print(file_names)\n",
    "# 数据量过大 仅用2个200M一共400M数据来构建\n",
    "for file_name in file_names[:1]:\n",
    "    with open(file_path+file_name, encoding='utf-8') as fo:\n",
    "        for article in tqdm(fo.readlines()):\n",
    "            all_articles.append(cht_to_chs(token(json.loads(article)['text'].strip())))\n"
   ]
  },
  {
   "cell_type": "code",
   "execution_count": 36,
   "metadata": {},
   "outputs": [
    {
     "data": {
      "text/plain": [
       "'杨梅属 杨梅属 学名 Myrica 是杨梅科下的一个属 为常绿灌木或乔木植物 该属共有约50种 分布于温带和亚热带'"
      ]
     },
     "execution_count": 36,
     "metadata": {},
     "output_type": "execute_result"
    }
   ],
   "source": [
    "all_articles[2929]"
   ]
  },
  {
   "cell_type": "code",
   "execution_count": null,
   "metadata": {},
   "outputs": [],
   "source": [
    "import jieba\n",
    "import time\n",
    "def cut(str): \n",
    "    result = list(jieba.cut(str))\n",
    "    return result\n",
    "\n",
    "def cut_multi_process(str): \n",
    "    jieba.enable_parallel(1000)\n",
    "    result = list(jieba.cut(str))\n",
    "    jieba.disable_parallel()\n",
    "    return result"
   ]
  },
  {
   "cell_type": "code",
   "execution_count": 50,
   "metadata": {},
   "outputs": [
    {
     "name": "stderr",
     "output_type": "stream",
     "text": [
      "\n",
      "  0%|          | 0/9448 [00:00<?, ?it/s]\u001b[A\n",
      "  0%|          | 21/9448 [00:00<00:44, 209.93it/s]\u001b[A\n",
      "  1%|          | 87/9448 [00:00<00:35, 263.79it/s]\u001b[A\n",
      "  2%|▏         | 170/9448 [00:00<00:27, 331.37it/s]\u001b[A\n",
      "  3%|▎         | 304/9448 [00:00<00:21, 427.27it/s]\u001b[A\n",
      "  4%|▍         | 410/9448 [00:00<00:18, 498.50it/s]\u001b[A\n",
      "  9%|▉         | 859/9448 [00:00<00:12, 679.78it/s]\u001b[A\n",
      " 14%|█▍        | 1311/9448 [00:00<00:09, 893.23it/s]\u001b[A\n",
      " 16%|█▋        | 1542/9448 [00:01<00:08, 886.09it/s]\u001b[A\n",
      " 18%|█▊        | 1730/9448 [00:01<00:08, 861.61it/s]\u001b[A\n",
      " 20%|█▉        | 1886/9448 [00:01<00:08, 929.78it/s]\u001b[A\n",
      " 21%|██▏       | 2029/9448 [00:01<00:07, 945.37it/s]\u001b[A\n",
      " 23%|██▎       | 2219/9448 [00:01<00:06, 1113.14it/s]\u001b[A\n",
      " 25%|██▌       | 2367/9448 [00:01<00:07, 977.88it/s] \u001b[A\n",
      " 26%|██▋       | 2495/9448 [00:01<00:06, 1051.05it/s]\u001b[A\n",
      " 28%|██▊       | 2622/9448 [00:02<00:06, 1043.31it/s]\u001b[A\n",
      " 29%|██▉       | 2771/9448 [00:02<00:05, 1144.69it/s]\u001b[A\n",
      " 31%|███       | 2899/9448 [00:02<00:07, 917.96it/s] \u001b[A\n",
      " 32%|███▏      | 3008/9448 [00:02<00:07, 832.48it/s]\u001b[A\n",
      " 36%|███▌      | 3364/9448 [00:02<00:05, 1080.71it/s]\u001b[A\n",
      " 40%|████      | 3786/9448 [00:02<00:04, 1391.13it/s]\u001b[A\n",
      " 44%|████▎     | 4113/9448 [00:02<00:03, 1680.83it/s]\u001b[A\n",
      " 47%|████▋     | 4415/9448 [00:02<00:02, 1937.59it/s]\u001b[A\n",
      " 50%|████▉     | 4696/9448 [00:03<00:03, 1498.97it/s]\u001b[A\n",
      " 52%|█████▏    | 4922/9448 [00:03<00:03, 1179.70it/s]\u001b[A\n",
      " 54%|█████▍    | 5104/9448 [00:03<00:04, 972.86it/s] \u001b[A\n",
      " 56%|█████▌    | 5259/9448 [00:03<00:03, 1092.52it/s]\u001b[A\n",
      " 57%|█████▋    | 5409/9448 [00:04<00:03, 1039.72it/s]\u001b[A\n",
      " 59%|█████▊    | 5542/9448 [00:04<00:04, 801.66it/s] \u001b[A\n",
      " 60%|█████▉    | 5651/9448 [00:04<00:04, 811.25it/s]\u001b[A\n",
      " 61%|██████    | 5781/9448 [00:04<00:04, 914.23it/s]\u001b[A\n",
      " 62%|██████▏   | 5891/9448 [00:04<00:05, 702.74it/s]\u001b[A\n",
      " 63%|██████▎   | 5982/9448 [00:04<00:05, 687.86it/s]\u001b[A\n",
      " 64%|██████▍   | 6079/9448 [00:04<00:04, 753.23it/s]\u001b[A\n",
      " 65%|██████▌   | 6167/9448 [00:05<00:04, 738.73it/s]\u001b[A\n",
      " 67%|██████▋   | 6284/9448 [00:05<00:03, 830.36it/s]\u001b[A\n",
      " 67%|██████▋   | 6377/9448 [00:05<00:04, 696.49it/s]\u001b[A\n",
      " 68%|██████▊   | 6462/9448 [00:05<00:04, 736.31it/s]\u001b[A\n",
      " 69%|██████▉   | 6544/9448 [00:05<00:04, 587.26it/s]\u001b[A\n",
      " 70%|███████   | 6621/9448 [00:05<00:04, 625.22it/s]\u001b[A\n",
      " 71%|███████   | 6692/9448 [00:05<00:04, 606.38it/s]\u001b[A\n",
      " 72%|███████▏  | 6794/9448 [00:06<00:03, 687.98it/s]\u001b[A\n",
      " 73%|███████▎  | 6897/9448 [00:06<00:03, 763.96it/s]\u001b[A\n",
      " 74%|███████▍  | 7028/9448 [00:06<00:02, 871.45it/s]\u001b[A\n",
      " 75%|███████▌  | 7130/9448 [00:06<00:02, 910.21it/s]\u001b[A\n",
      " 78%|███████▊  | 7332/9448 [00:06<00:01, 1085.11it/s]\u001b[A\n",
      " 79%|███████▉  | 7505/9448 [00:06<00:01, 1221.67it/s]\u001b[A\n",
      " 81%|████████  | 7647/9448 [00:06<00:01, 1043.09it/s]\u001b[A\n",
      " 82%|████████▏ | 7770/9448 [00:06<00:01, 873.99it/s] \u001b[A\n",
      " 83%|████████▎ | 7875/9448 [00:07<00:02, 734.93it/s]\u001b[A\n",
      " 85%|████████▌ | 8041/9448 [00:07<00:01, 882.22it/s]\u001b[A\n",
      " 86%|████████▋ | 8167/9448 [00:07<00:01, 969.12it/s]\u001b[A\n",
      " 88%|████████▊ | 8284/9448 [00:07<00:01, 1001.34it/s]\u001b[A\n",
      " 89%|████████▉ | 8399/9448 [00:07<00:01, 743.71it/s] \u001b[A\n",
      " 90%|████████▉ | 8493/9448 [00:07<00:01, 611.04it/s]\u001b[A\n",
      " 91%|█████████ | 8572/9448 [00:08<00:01, 612.54it/s]\u001b[A\n",
      " 92%|█████████▏| 8646/9448 [00:08<00:01, 612.87it/s]\u001b[A\n",
      " 93%|█████████▎| 8766/9448 [00:08<00:00, 717.46it/s]\u001b[A\n",
      " 95%|█████████▌| 8994/9448 [00:08<00:00, 902.59it/s]\u001b[A\n",
      " 97%|█████████▋| 9122/9448 [00:08<00:00, 747.20it/s]\u001b[A\n",
      " 98%|█████████▊| 9228/9448 [00:08<00:00, 680.24it/s]\u001b[A\n",
      " 99%|█████████▊| 9319/9448 [00:08<00:00, 717.38it/s]\u001b[A\n",
      "100%|██████████| 9448/9448 [00:08<00:00, 825.49it/s]\u001b[A"
     ]
    }
   ],
   "source": [
    "sentences = []\n",
    "for s in tqdm(all_articles):\n",
    "    sentences.append(cut(s))"
   ]
  },
  {
   "cell_type": "code",
   "execution_count": null,
   "metadata": {},
   "outputs": [],
   "source": [
    "sentences[0]"
   ]
  },
  {
   "cell_type": "code",
   "execution_count": 55,
   "metadata": {},
   "outputs": [],
   "source": [
    "from gensim.models import word2vec # word2vec 模型\n",
    "w2v_model = word2vec.Word2Vec(sentences,min_count=5,workers=50,size=100)"
   ]
  },
  {
   "cell_type": "code",
   "execution_count": 61,
   "metadata": {},
   "outputs": [
    {
     "data": {
      "text/plain": [
       "[('家村', 0.9634177684783936),\n",
       " ('山村', 0.9586061835289001),\n",
       " ('西村', 0.9522800445556641),\n",
       " ('周家', 0.9470921158790588),\n",
       " ('东村', 0.9461714029312134),\n",
       " ('塘村', 0.9391768574714661),\n",
       " ('花园村', 0.9317656755447388),\n",
       " ('枫树', 0.927894115447998),\n",
       " ('新村', 0.8992545008659363),\n",
       " ('湖村', 0.8913074135780334)]"
      ]
     },
     "execution_count": 61,
     "metadata": {},
     "output_type": "execute_result"
    }
   ],
   "source": [
    "w2v_model.wv.most_similar('村')"
   ]
  }
 ],
 "metadata": {
  "kernelspec": {
   "display_name": "Python 3",
   "language": "python",
   "name": "python3"
  },
  "language_info": {
   "codemirror_mode": {
    "name": "ipython",
    "version": 3
   },
   "file_extension": ".py",
   "mimetype": "text/x-python",
   "name": "python",
   "nbconvert_exporter": "python",
   "pygments_lexer": "ipython3",
   "version": "3.6.8"
  }
 },
 "nbformat": 4,
 "nbformat_minor": 2
}
