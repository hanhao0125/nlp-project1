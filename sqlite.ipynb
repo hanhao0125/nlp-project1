{
 "cells": [
  {
   "cell_type": "code",
   "execution_count": 19,
   "metadata": {},
   "outputs": [],
   "source": [
    "import sqlite3\n",
    "import pandas as pd\n",
    "import numpy as np\n",
    "d = pd.read_csv('/root/code/NewsSpider/网易新闻0111_1.csv')\n",
    "conn = sqlite3.connect('news.db')"
   ]
  },
  {
   "cell_type": "code",
   "execution_count": 20,
   "metadata": {},
   "outputs": [
    {
     "data": {
      "text/html": [
       "<div>\n",
       "<style scoped>\n",
       "    .dataframe tbody tr th:only-of-type {\n",
       "        vertical-align: middle;\n",
       "    }\n",
       "\n",
       "    .dataframe tbody tr th {\n",
       "        vertical-align: top;\n",
       "    }\n",
       "\n",
       "    .dataframe thead th {\n",
       "        text-align: right;\n",
       "    }\n",
       "</style>\n",
       "<table border=\"1\" class=\"dataframe\">\n",
       "  <thead>\n",
       "    <tr style=\"text-align: right;\">\n",
       "      <th></th>\n",
       "      <th>abstract</th>\n",
       "      <th>comments</th>\n",
       "      <th>content</th>\n",
       "      <th>date</th>\n",
       "      <th>heat</th>\n",
       "      <th>id</th>\n",
       "      <th>title</th>\n",
       "      <th>url</th>\n",
       "    </tr>\n",
       "  </thead>\n",
       "  <tbody>\n",
       "    <tr>\n",
       "      <th>0</th>\n",
       "      <td>资料图：美航客机。按照所能提供的运力计算，世界上最大的航空公司美国航空公司（下称美航）与亚洲...</td>\n",
       "      <td></td>\n",
       "      <td>资料图：美航客机。按照所能提供的运力计算，世界上最大的航空公司美国航空公司（下称美航）与亚洲...</td>\n",
       "      <td>2017-03-25 11:42:47</td>\n",
       "      <td>0</td>\n",
       "      <td>1</td>\n",
       "      <td>美航借道南航入华航空联盟格局生变</td>\n",
       "      <td>http://news.163.com/air/17/0325/11/CGCDAOMD000...</td>\n",
       "    </tr>\n",
       "    <tr>\n",
       "      <th>1</th>\n",
       "      <td>资料图：国产大飞机919。新华社上海3月25日电记者25日从中国商飞公司了解到，国内63名院...</td>\n",
       "      <td></td>\n",
       "      <td>资料图：国产大飞机919。新华社上海3月25日电记者25日从中国商飞公司了解到，国内63名院...</td>\n",
       "      <td>2017-03-25 13:57:46</td>\n",
       "      <td>0</td>\n",
       "      <td>2</td>\n",
       "      <td>国产大型客机C919通过首飞技术评审</td>\n",
       "      <td>http://news.163.com/air/17/0325/13/CGCL1TR2000...</td>\n",
       "    </tr>\n",
       "    <tr>\n",
       "      <th>2</th>\n",
       "      <td>（原标题：当地警方不予立案称家长应负主要责任）（中国青年报·中青在线记者章正）甘肃省兰州市红...</td>\n",
       "      <td></td>\n",
       "      <td>（原标题：当地警方不予立案称家长应负主要责任）（中国青年报·中青在线记者章正）甘肃省兰州市红...</td>\n",
       "      <td>2016-07-21 07:30:14</td>\n",
       "      <td>0</td>\n",
       "      <td>3</td>\n",
       "      <td>甘肃两姐妹被洪水卷走失踪当地警方不予立案</td>\n",
       "      <td>http://news.163.com/16/0721/07/BSFUFFP800014AE...</td>\n",
       "    </tr>\n",
       "    <tr>\n",
       "      <th>3</th>\n",
       "      <td>（原标题：搜救犬水灾救援22天后在南京殉职主人洒泪：它太累了）搜救犬黑豹黑豹在救援现场王刚在...</td>\n",
       "      <td></td>\n",
       "      <td>（原标题：搜救犬水灾救援22天后在南京殉职主人洒泪：它太累了）搜救犬黑豹黑豹在救援现场王刚在...</td>\n",
       "      <td>2016-07-21 12:59:39</td>\n",
       "      <td>0</td>\n",
       "      <td>4</td>\n",
       "      <td>搜救犬水灾救援22天后殉职主人洒泪:它太累了</td>\n",
       "      <td>http://news.163.com/16/0721/12/BSGHHVLK0001122...</td>\n",
       "    </tr>\n",
       "    <tr>\n",
       "      <th>4</th>\n",
       "      <td>（原标题：民政部北方暴雨75人死亡失踪173万人受灾）暴雨状况暴雨状况暴雨状况7月20日，市...</td>\n",
       "      <td></td>\n",
       "      <td>（原标题：民政部北方暴雨75人死亡失踪173万人受灾）暴雨状况暴雨状况暴雨状况7月20日，市...</td>\n",
       "      <td>2016-07-21 10:04:46</td>\n",
       "      <td>0</td>\n",
       "      <td>5</td>\n",
       "      <td>民政部:北方暴雨75人死亡失踪173万人受灾</td>\n",
       "      <td>http://news.163.com/16/0721/10/BSG7HOH20001124...</td>\n",
       "    </tr>\n",
       "  </tbody>\n",
       "</table>\n",
       "</div>"
      ],
      "text/plain": [
       "                                            abstract comments  \\\n",
       "0  资料图：美航客机。按照所能提供的运力计算，世界上最大的航空公司美国航空公司（下称美航）与亚洲...            \n",
       "1  资料图：国产大飞机919。新华社上海3月25日电记者25日从中国商飞公司了解到，国内63名院...            \n",
       "2  （原标题：当地警方不予立案称家长应负主要责任）（中国青年报·中青在线记者章正）甘肃省兰州市红...            \n",
       "3  （原标题：搜救犬水灾救援22天后在南京殉职主人洒泪：它太累了）搜救犬黑豹黑豹在救援现场王刚在...            \n",
       "4  （原标题：民政部北方暴雨75人死亡失踪173万人受灾）暴雨状况暴雨状况暴雨状况7月20日，市...            \n",
       "\n",
       "                                             content                 date  \\\n",
       "0  资料图：美航客机。按照所能提供的运力计算，世界上最大的航空公司美国航空公司（下称美航）与亚洲...  2017-03-25 11:42:47   \n",
       "1  资料图：国产大飞机919。新华社上海3月25日电记者25日从中国商飞公司了解到，国内63名院...  2017-03-25 13:57:46   \n",
       "2  （原标题：当地警方不予立案称家长应负主要责任）（中国青年报·中青在线记者章正）甘肃省兰州市红...  2016-07-21 07:30:14   \n",
       "3  （原标题：搜救犬水灾救援22天后在南京殉职主人洒泪：它太累了）搜救犬黑豹黑豹在救援现场王刚在...  2016-07-21 12:59:39   \n",
       "4  （原标题：民政部北方暴雨75人死亡失踪173万人受灾）暴雨状况暴雨状况暴雨状况7月20日，市...  2016-07-21 10:04:46   \n",
       "\n",
       "  heat id                   title  \\\n",
       "0    0  1        美航借道南航入华航空联盟格局生变   \n",
       "1    0  2      国产大型客机C919通过首飞技术评审   \n",
       "2    0  3    甘肃两姐妹被洪水卷走失踪当地警方不予立案   \n",
       "3    0  4  搜救犬水灾救援22天后殉职主人洒泪:它太累了   \n",
       "4    0  5  民政部:北方暴雨75人死亡失踪173万人受灾   \n",
       "\n",
       "                                                 url  \n",
       "0  http://news.163.com/air/17/0325/11/CGCDAOMD000...  \n",
       "1  http://news.163.com/air/17/0325/13/CGCL1TR2000...  \n",
       "2  http://news.163.com/16/0721/07/BSFUFFP800014AE...  \n",
       "3  http://news.163.com/16/0721/12/BSGHHVLK0001122...  \n",
       "4  http://news.163.com/16/0721/10/BSG7HOH20001124...  "
      ]
     },
     "execution_count": 20,
     "metadata": {},
     "output_type": "execute_result"
    }
   ],
   "source": [
    "d.head()"
   ]
  },
  {
   "cell_type": "code",
   "execution_count": 21,
   "metadata": {},
   "outputs": [],
   "source": [
    "d.to_sql(\"wangyi\", conn, if_exists=\"replace\")"
   ]
  },
  {
   "cell_type": "code",
   "execution_count": 23,
   "metadata": {},
   "outputs": [
    {
     "name": "stdout",
     "output_type": "stream",
     "text": [
      "Index(['abstract', 'comments', 'content', 'date', 'heat', 'id', 'title',\n",
      "       'url'],\n",
      "      dtype='object')\n",
      "<sqlite3.Cursor object at 0x7f4bac58d0a0>\n",
      "(59791,)\n"
     ]
    }
   ],
   "source": [
    "c = conn.cursor()\n",
    "cursor = c.execute(\"SELECT count(*) from wangyi\")\n",
    "print(d.columns)\n",
    "print(cursor)\n",
    "for i in cursor:\n",
    "    print(i)\n"
   ]
  },
  {
   "cell_type": "code",
   "execution_count": null,
   "metadata": {},
   "outputs": [],
   "source": []
  }
 ],
 "metadata": {
  "kernelspec": {
   "display_name": "Python 3",
   "language": "python",
   "name": "python3"
  },
  "language_info": {
   "codemirror_mode": {
    "name": "ipython",
    "version": 3
   },
   "file_extension": ".py",
   "mimetype": "text/x-python",
   "name": "python",
   "nbconvert_exporter": "python",
   "pygments_lexer": "ipython3",
   "version": "3.6.8"
  }
 },
 "nbformat": 4,
 "nbformat_minor": 2
}
